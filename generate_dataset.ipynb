{
  "nbformat": 4,
  "nbformat_minor": 0,
  "metadata": {
    "colab": {
      "provenance": []
    },
    "kernelspec": {
      "name": "python3",
      "display_name": "Python 3"
    },
    "language_info": {
      "name": "python"
    }
  },
  "cells": [
    {
      "cell_type": "markdown",
      "source": [
        "### **Data Generation - create a notebook (generate_dataset.ipynb) that generates a new table with 500 rows and each row contains a set of summary attributes that are extracted from the respective portfolio file.**"
      ],
      "metadata": {
        "id": "d0HTl8VLUiHd"
      }
    },
    {
      "cell_type": "code",
      "execution_count": null,
      "metadata": {
        "colab": {
          "base_uri": "https://localhost:8080/"
        },
        "id": "9X0vOaUo0twz",
        "outputId": "86c5b32a-9f66-4696-dbfa-18f3913d433c"
      },
      "outputs": [
        {
          "output_type": "stream",
          "name": "stdout",
          "text": [
            "Drive already mounted at /content/gdrive; to attempt to forcibly remount, call drive.mount(\"/content/gdrive\", force_remount=True).\n"
          ]
        }
      ],
      "source": [
        "from google.colab import drive\n",
        "drive.mount('/content/gdrive')"
      ]
    },
    {
      "cell_type": "code",
      "source": [
        "%cd '/content/gdrive/MyDrive/Colab Notebooks/BigDataAssignment6'"
      ],
      "metadata": {
        "colab": {
          "base_uri": "https://localhost:8080/"
        },
        "id": "kutn8wnQ1Zar",
        "outputId": "63b019c1-b91c-4eea-a4de-edbcbf576b44"
      },
      "execution_count": null,
      "outputs": [
        {
          "output_type": "stream",
          "name": "stdout",
          "text": [
            "/content/gdrive/MyDrive/Colab Notebooks/BigDataAssignment6\n"
          ]
        }
      ]
    },
    {
      "cell_type": "code",
      "source": [
        "import pandas as pd\n",
        "import numpy as np\n",
        "import os"
      ],
      "metadata": {
        "id": "VfuaYbvLMgEE"
      },
      "execution_count": null,
      "outputs": []
    },
    {
      "cell_type": "code",
      "source": [
        "def read_portfolio(portfolio_num):\n",
        "\n",
        "   # Load the data into a Pandas data frame\n",
        "    filename = 'portfolios/portfolio_' + str(portfolio_num) + '.csv'\n",
        "    portfolio = pd.read_csv(filename)\n",
        "\n",
        "    # portfolio number\n",
        "    ID = str(portfolio_num)\n",
        "\n",
        "    # Calculating the relative frequency of 'Vehicle_Anti_Theft_Device'\n",
        "    VATD_NA = portfolio[portfolio['Vehicle_Anti_Theft_Device'] == 'Not Applicable'].shape[0] / portfolio.shape[0]\n",
        "    VATD_Passive = portfolio[portfolio['Vehicle_Anti_Theft_Device'] == 'Passive Disabling-Vehicle Recovery'].shape[0] / portfolio.shape[0]\n",
        "    VATD_Alarm = portfolio[portfolio['Vehicle_Anti_Theft_Device'] == 'Alarm Only'].shape[0] / portfolio.shape[0]\n",
        "    VATD_Active = portfolio[portfolio['Vehicle_Anti_Theft_Device'] == 'Active Disabling'].shape[0] / portfolio.shape[0]\n",
        "\n",
        "\n",
        "    # Calculate the mean and standard deviation of 'Driver_Minimum_Age'\n",
        "    DMA_mean = np.mean(portfolio['Driver_Minimum_Age'])\n",
        "    DMA_std = np.std(portfolio['Driver_Minimum_Age'])\n",
        "\n",
        "    # Calculate the mean and standard deviation of 'Vehicle_Age_In_Years'\n",
        "    VAY_mean = np.mean(portfolio['Vehicle_Age_In_Years'])\n",
        "    VAY_std = np.std(portfolio['Vehicle_Age_In_Years'])\n",
        "\n",
        "    # Calculate the mean and standard deviation of 'Annual_Premium'\n",
        "    AP_mean = np.mean(portfolio['Annual_Premium'])\n",
        "    AP_std = np.std(portfolio['Annual_Premium'])\n",
        "\n",
        "    # Calculate the natural logarithm of loss ratio\n",
        "    ln_LR = np.log(np.sum(portfolio['Loss_Amount']) / np.sum(portfolio['Annual_Premium']))\n",
        "\n",
        "    # Return a dictionary with the calculated values\n",
        "    return {'ID': ID,\n",
        "            'VATD_NA': VATD_NA,\n",
        "            'VATD_Passive': VATD_Passive,\n",
        "            'VATD_Alarm': VATD_Alarm,\n",
        "            'VATD_Active': VATD_Active,\n",
        "            'DMA_mean': DMA_mean,\n",
        "            'DMA_std': DMA_std,\n",
        "            'VAY_mean': VAY_mean,\n",
        "            'VAY_std': VAY_std,\n",
        "            'AP_mean': AP_mean,\n",
        "            'AP_std': AP_std,\n",
        "            'ln_LR': ln_LR}"
      ],
      "metadata": {
        "id": "a9IxRN4L4xvj"
      },
      "execution_count": null,
      "outputs": []
    },
    {
      "cell_type": "markdown",
      "source": [
        "**Create an empty data frame to collect the summary attributes of all the portfolios.**"
      ],
      "metadata": {
        "id": "F3GIExvsTlrl"
      }
    },
    {
      "cell_type": "code",
      "source": [
        "df_atr_summary = pd.DataFrame(columns=['ID',\n",
        "                                       'VATD_NA',\n",
        "                                       'VATD_Passive',\n",
        "                                       'VATD_Alarm',\n",
        "                                       'VATD_Active',\n",
        "                                       'DMA_mean',\n",
        "                                       'DMA_std',\n",
        "                                       'VAY_mean',\n",
        "                                       'VAY_std',\n",
        "                                       'AP_mean',\n",
        "                                       'AP_std',\n",
        "                                       'ln_LR'])"
      ],
      "metadata": {
        "id": "c0npfSBCNcVg"
      },
      "execution_count": null,
      "outputs": []
    },
    {
      "cell_type": "markdown",
      "source": [
        "**Write a for loop that goes from 1 to 500 and calls the read_portfolio function. Append the results of the function to the new data frame.  (You might have to ignore the index here)**"
      ],
      "metadata": {
        "id": "6jrg-EaFT78j"
      }
    },
    {
      "cell_type": "code",
      "source": [
        "for i in range(1, 501):\n",
        "    df_atr_summary = df_atr_summary.append(read_portfolio(i), ignore_index=True)"
      ],
      "metadata": {
        "id": "Ydy7CEyGNekn"
      },
      "execution_count": null,
      "outputs": []
    },
    {
      "cell_type": "code",
      "source": [
        "df_atr_summary.set_index('ID', inplace=True)"
      ],
      "metadata": {
        "id": "NuAYoiL-Nv4J"
      },
      "execution_count": null,
      "outputs": []
    },
    {
      "cell_type": "markdown",
      "source": [
        "**Export this data into a file called summary_portfolios.csv**"
      ],
      "metadata": {
        "id": "qlmCxWxHUDai"
      }
    },
    {
      "cell_type": "code",
      "source": [
        "df_atr_summary.to_csv('summary_portfolios.csv', index=True)"
      ],
      "metadata": {
        "id": "0S2-TbIENy3u"
      },
      "execution_count": null,
      "outputs": []
    }
  ]
}